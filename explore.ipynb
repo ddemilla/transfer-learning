{
 "cells": [
  {
   "cell_type": "code",
   "execution_count": 1,
   "metadata": {
    "collapsed": true
   },
   "outputs": [],
   "source": [
    "import json\n",
    "import pandas as pd\n",
    "from tqdm import tqdm_notebook\n",
    "import numpy as np"
   ]
  },
  {
   "cell_type": "code",
   "execution_count": 2,
   "metadata": {
    "collapsed": true
   },
   "outputs": [],
   "source": [
    "with open(\"/cold/coco/annotations/instances_train2014.json\") as f:\n",
    "    data = json.load(f)"
   ]
  },
  {
   "cell_type": "code",
   "execution_count": 3,
   "metadata": {
    "collapsed": true
   },
   "outputs": [],
   "source": [
    "data_dict ={}\n",
    "data_dict[\"category_id\"] = []\n",
    "data_dict[\"ids\"] = []\n",
    "data_dict[\"image_id\"] = []\n",
    "\n",
    "for ann in data[\"annotations\"]:\n",
    "    data_dict[\"category_id\"].append(ann[\"category_id\"])\n",
    "    data_dict[\"ids\"].append(ann[\"id\"])\n",
    "    data_dict[\"image_id\"].append(ann[\"image_id\"])\n",
    "    \n",
    "data_df = pd.DataFrame.from_dict(data_dict)"
   ]
  },
  {
   "cell_type": "code",
   "execution_count": 4,
   "metadata": {},
   "outputs": [
    {
     "data": {
      "text/plain": [
       "category_id        80\n",
       "ids            604907\n",
       "image_id        82081\n",
       "dtype: int64"
      ]
     },
     "execution_count": 4,
     "metadata": {},
     "output_type": "execute_result"
    }
   ],
   "source": [
    "data_df.nunique()"
   ]
  },
  {
   "cell_type": "code",
   "execution_count": 5,
   "metadata": {},
   "outputs": [
    {
     "data": {
      "text/plain": [
       "1     185316\n",
       "3      30785\n",
       "62     27147\n",
       "84     17315\n",
       "44     16983\n",
       "47     14513\n",
       "67     11167\n",
       "51     10064\n",
       "10      9159\n",
       "31      8778\n",
       "28      7865\n",
       "9       7590\n",
       "16      7290\n",
       "8       7050\n",
       "52      6912\n",
       "15      6751\n",
       "20      6654\n",
       "38      6560\n",
       "27      6200\n",
       "4       6021\n",
       "64      5918\n",
       "21      5686\n",
       "46      5618\n",
       "57      5539\n",
       "49      5536\n",
       "60      4977\n",
       "2       4955\n",
       "56      4927\n",
       "35      4698\n",
       "19      4666\n",
       "       ...  \n",
       "5       3833\n",
       "18      3774\n",
       "24      3685\n",
       "25      3596\n",
       "88      3442\n",
       "73      3415\n",
       "43      3411\n",
       "17      3301\n",
       "7       3159\n",
       "54      3089\n",
       "65      2905\n",
       "70      2873\n",
       "40      2689\n",
       "39      2400\n",
       "79      2302\n",
       "58      2023\n",
       "76      1980\n",
       "36      1960\n",
       "82      1875\n",
       "34      1862\n",
       "74      1517\n",
       "90      1377\n",
       "13      1372\n",
       "11      1316\n",
       "78      1189\n",
       "87      1073\n",
       "23       903\n",
       "14       833\n",
       "80       156\n",
       "89       135\n",
       "Name: category_id, Length: 80, dtype: int64"
      ]
     },
     "execution_count": 5,
     "metadata": {},
     "output_type": "execute_result"
    }
   ],
   "source": [
    "data_df[\"category_id\"].value_counts()"
   ]
  },
  {
   "cell_type": "code",
   "execution_count": 6,
   "metadata": {},
   "outputs": [
    {
     "name": "stdout",
     "output_type": "stream",
     "text": [
      "36    1960\n",
      "82    1875\n",
      "34    1862\n",
      "74    1517\n",
      "Name: category_id, dtype: int64\n",
      "7214\n"
     ]
    }
   ],
   "source": [
    "categories_to_select = [36, 82, 34,74 ]\n",
    "\n",
    "mask = data_df[\"category_id\"].apply(lambda x: x in categories_to_select)\n",
    "masked = data_df.loc[mask]\n",
    "print(masked[\"category_id\"].value_counts())\n",
    "print(masked[\"category_id\"].count())\n",
    "image_ids_to_select = masked[\"image_id\"].tolist()\n"
   ]
  },
  {
   "cell_type": "code",
   "execution_count": 7,
   "metadata": {},
   "outputs": [
    {
     "name": "stdout",
     "output_type": "stream",
     "text": [
      "7214\n",
      "7214\n"
     ]
    },
    {
     "data": {
      "text/plain": [
       "[340065,\n",
       " 229142,\n",
       " 500982,\n",
       " 288471,\n",
       " 248732,\n",
       " 579332,\n",
       " 177658,\n",
       " 119276,\n",
       " 266912,\n",
       " 369977]"
      ]
     },
     "execution_count": 7,
     "metadata": {},
     "output_type": "execute_result"
    }
   ],
   "source": [
    "print(len(image_ids_to_select))\n",
    "print(len(image_ids_to_select))\n",
    "image_ids_to_select[:10]"
   ]
  },
  {
   "cell_type": "code",
   "execution_count": 8,
   "metadata": {},
   "outputs": [
    {
     "name": "stdout",
     "output_type": "stream",
     "text": [
      "5621\n"
     ]
    }
   ],
   "source": [
    "image_files = [\"COCO_train2014_{}.jpg\".format(str(x).zfill(12)) for x in image_ids_to_select]\n",
    "deduped = []\n",
    "for f in image_files:\n",
    "    if f not in deduped:\n",
    "        deduped.append(f)\n",
    "        \n",
    "print(len(deduped))"
   ]
  },
  {
   "cell_type": "code",
   "execution_count": 9,
   "metadata": {
    "collapsed": true
   },
   "outputs": [],
   "source": [
    "with open(\"sample_images_files.txt\", \"w\") as w:\n",
    "    for image_file in image_files:\n",
    "        w.write(f\"{image_file}\\n\")\n",
    "        \n",
    "        \n",
    "with open(\"sample_images_labels.txt\", \"w\") as w:\n",
    "    w.write(\"image_id,category_id\\n\")\n",
    "    for i, row in masked.iterrows():\n",
    "        write_row = \"{},{}\\n\".format(row[\"image_id\"], row[\"category_id\"])\n",
    "        w.write(write_row)"
   ]
  },
  {
   "cell_type": "code",
   "execution_count": 10,
   "metadata": {},
   "outputs": [
    {
     "data": {
      "text/plain": [
       "True"
      ]
     },
     "execution_count": 10,
     "metadata": {},
     "output_type": "execute_result"
    }
   ],
   "source": [
    "\"COCO_train2014_000000003713.jpg\" in image_files"
   ]
  },
  {
   "cell_type": "code",
   "execution_count": 11,
   "metadata": {},
   "outputs": [
    {
     "name": "stdout",
     "output_type": "stream",
     "text": [
      "Hello\n"
     ]
    }
   ],
   "source": [
    "print(\"Hello\")"
   ]
  },
  {
   "cell_type": "code",
   "execution_count": null,
   "metadata": {
    "collapsed": true
   },
   "outputs": [],
   "source": []
  }
 ],
 "metadata": {
  "kernelspec": {
   "display_name": "Python 3",
   "language": "python",
   "name": "python3"
  },
  "language_info": {
   "codemirror_mode": {
    "name": "ipython",
    "version": 3
   },
   "file_extension": ".py",
   "mimetype": "text/x-python",
   "name": "python",
   "nbconvert_exporter": "python",
   "pygments_lexer": "ipython3",
   "version": "3.6.8"
  }
 },
 "nbformat": 4,
 "nbformat_minor": 2
}
